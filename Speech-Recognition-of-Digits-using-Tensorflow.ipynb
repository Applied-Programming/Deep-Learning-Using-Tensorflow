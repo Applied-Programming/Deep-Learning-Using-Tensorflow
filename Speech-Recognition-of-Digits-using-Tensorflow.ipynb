{
 "cells": [
  {
   "cell_type": "markdown",
   "metadata": {},
   "source": [
    "# Speech Recognition of Digits using Tensorflow\n",
    "<hr>\n",
    "\n",
    "This repository demonstrates a Tensorflow implementation of  Speech Recognition.\n",
    "We build an LSTM recurrent neural network using the TFLearn high level Tensorflow-based library to train\n",
    "on a labeled dataset of spoken digits. Then we test it on spoken digits. \n",
    "\n",
    "Dependencies\n",
    "============\n",
    "1. tensorflow  (https://www.tensorflow.org/versions/r0.12/get_started/os_setup.html)\n",
    "2. tflearn (http://tflearn.org/)\n",
    "3. future\n",
    "\n",
    "Use [pip](https://pypi.python.org/pypi/pip) to install any missing dependencies\n",
    "\n",
    "Usage\n",
    "===========\n",
    "\n",
    "`python demo.py`\n",
    "\n",
    "You will need the `speech_data.py` function to run the demo. You can get it from [here](https://github.com/Aniruddha-Tapas/Speech-Recognition-of-Digits-using-Tensorflow/blob/master/speech_data.py).\n",
    "\n",
    "* Run the following code line in terminal:\n",
    "* This downloads the dataset into the 'data' folder and initiates the training process.\n",
    "* It will take a couple hours to train fully.\n",
    "* You can then test the trained model on your own .wav samples of spoken digits.\n",
    "\n",
    "<hr>"
   ]
  },
  {
   "cell_type": "code",
   "execution_count": null,
   "metadata": {
    "collapsed": true
   },
   "outputs": [],
   "source": [
    "#! python27\n",
    "# demo.py\n",
    "from __future__ import division, print_function, absolute_import\n",
    "import tflearn\n",
    "import speech_data\n",
    "import tensorflow as tf\n",
    "\n",
    "learning_rate = 0.0001\n",
    "training_iters = 300000  # steps\n",
    "batch_size = 64\n",
    "\n",
    "width = 20  # mfcc features\n",
    "height = 80  # (max) length of utterance\n",
    "classes = 10  # digits\n",
    "\n",
    "batch = word_batch = speech_data.mfcc_batch_generator(batch_size)\n",
    "X, Y = next(batch)\n",
    "trainX, trainY = X, Y\n",
    "testX, testY = X, Y #overfit for now\n",
    "\n",
    "# Network building\n",
    "net = tflearn.input_data([None, width, height])\n",
    "net = tflearn.lstm(net, 128, dropout=0.8)\n",
    "net = tflearn.fully_connected(net, classes, activation='softmax')\n",
    "net = tflearn.regression(net, optimizer='adam', learning_rate=learning_rate, loss='categorical_crossentropy')\n",
    "# Training\n",
    "\n",
    "### add this \"fix\" for tensorflow version errors\n",
    "col = tf.get_collection(tf.GraphKeys.TRAINABLE_VARIABLES)\n",
    "for x in col:\n",
    "    tf.add_to_collection(tf.GraphKeys.VARIABLES, x ) \n",
    "\n",
    "\n",
    "model = tflearn.DNN(net, tensorboard_verbose=0)\n",
    "while 1: #training_iters\n",
    "  model.fit(trainX, trainY, n_epoch=10, validation_set=(testX, testY), show_metric=True,\n",
    "          batch_size=batch_size)\n",
    "  _y=model.predict(X)\n",
    "model.save(\"tflearn.lstm.model\")\n",
    "print (_y)\n",
    "print (y)"
   ]
  },
  {
   "cell_type": "markdown",
   "metadata": {
    "collapsed": true
   },
   "source": [
    "<hr>"
   ]
  }
 ],
 "metadata": {
  "kernelspec": {
   "display_name": "Python 3",
   "language": "python",
   "name": "python3"
  },
  "language_info": {
   "codemirror_mode": {
    "name": "ipython",
    "version": 3
   },
   "file_extension": ".py",
   "mimetype": "text/x-python",
   "name": "python",
   "nbconvert_exporter": "python",
   "pygments_lexer": "ipython3",
   "version": "3.5.2"
  }
 },
 "nbformat": 4,
 "nbformat_minor": 2
}
